{
 "cells": [
  {
   "cell_type": "markdown",
   "metadata": {
    "editable": false
   },
   "source": [
    "# Assignment 1\n",
    "This jupyter notebook is meant to be used in conjunction with the full questions in the assignment pdf.\n",
    "\n",
    "## Instructions\n",
    "- Write your code and analyses in the indicated cells.\n",
    "- Ensure that this notebook runs without errors when the cells are run in sequence.\n",
    "- Do not attempt to change the contents of the other cells.\n",
    "\n",
    "## Submission\n",
    "- Ensure that this notebook runs without errors when the cells are run in sequence.\n",
    "- Rename the notebook to `<roll_number>.ipynb` and submit ONLY the notebook file on moodle."
   ]
  },
  {
   "cell_type": "markdown",
   "metadata": {
    "editable": false
   },
   "source": [
    "### Environment setup\n",
    "\n",
    "The following code reads the train and test data (provided along with this template) and outputs the data and labels as numpy arrays. Use these variables in your code.\n",
    "\n",
    "---\n",
    "#### Note on conventions\n",
    "In mathematical notation, the convention is tha data matrices are column-indexed, which means that a input data $x$ has shape $[d, n]$, where $d$ is the number of dimensions and $n$ is the number of data points, respectively.\n",
    "\n",
    "Programming languages have a slightly different convention. Data matrices are of shape $[n, d]$. This has the benefit of being able to access the ith data point as a simple `data[i]`.\n",
    "\n",
    "What this means is that you need to be careful about your handling of matrix dimensions. For example, while the covariance matrix (of shape $[d,d]$) for input data $x$ is calculated as $(x-u)(x-u)^T$, while programming you would do $(x-u)^T(x-u)$ to get the correct output shapes."
   ]
  },
  {
   "cell_type": "code",
   "execution_count": 2,
   "metadata": {
    "editable": false,
    "scrolled": true
   },
   "outputs": [
    {
     "name": "stdout",
     "output_type": "stream",
     "text": [
      "(6000, 784) (1000, 784)\n",
      "(6000,) (1000,)\n"
     ]
    }
   ],
   "source": [
    "from __future__ import print_function\n",
    "\n",
    "import numpy as np\n",
    "import matplotlib.pyplot as plt\n",
    "\n",
    "def read_data(filename):\n",
    "    with open(filename, 'r') as f:\n",
    "        lines = f.readlines()\n",
    "    \n",
    "    num_points = len(lines)\n",
    "    dim_points = 28 * 28\n",
    "    data = np.empty((num_points, dim_points))\n",
    "    labels = np.empty(num_points)\n",
    "    \n",
    "    for ind, line in enumerate(lines):\n",
    "        num = line.split(',')\n",
    "        labels[ind] = int(num[0])\n",
    "        data[ind] = [ int(x) for x in num[1:] ]\n",
    "        \n",
    "    return (data, labels)\n",
    "\n",
    "train_data, train_labels = read_data(\"sample_train.csv\")\n",
    "test_data, test_labels = read_data(\"sample_test.csv\")\n",
    "print(train_data.shape, test_data.shape)\n",
    "print(train_labels.shape, test_labels.shape)"
   ]
  },
  {
   "cell_type": "markdown",
   "metadata": {
    "editable": false
   },
   "source": [
    "# Questions\n",
    "---\n",
    "## 1.3.1 Representation\n",
    "The next code cells, when run, should plot the eigen value spectrum of the covariance matrices corresponding to the mentioned samples. Normalize the eigen value spectrum and only show the first 100 values."
   ]
  },
  {
   "cell_type": "code",
   "execution_count": 4,
   "metadata": {},
   "outputs": [
    {
     "data": {
      "image/png": "[encoded data removed]",
      "text/plain": [
       "<matplotlib.figure.Figure at 0x7efd0973a890>"
      ]
     },
     "metadata": {},
     "output_type": "display_data"
    }
   ],
   "source": [
    "# Samples corresponding to the last digit of your roll number (plot a)\n",
    "# Roll number = 20171025\n",
    "from scipy.linalg import eigh\n",
    "mat_5 = []\n",
    "for i in range(0,6000):\n",
    "    if(train_labels[i]==5.0):\n",
    "        mat_5.append(train_data[i])\n",
    "input_matrix = np.asarray(mat_5)\n",
    "x = np.cov(input_matrix.T)\n",
    "values, vectors = eigh(x, eigvals=(684,783))\n",
    "\n",
    "for i in range(0, 100):\n",
    "    values[i]/= values[-1]\n",
    "    \n",
    "values[:] = values[::-1]\n",
    "# print(values)\n",
    "y = []\n",
    "x = []\n",
    "for i in range(0, 100):\n",
    "    x.append(i)\n",
    "    y.append(values[i])\n",
    "plt.bar(x,y) \n",
    "plt.show()"
   ]
  },
  {
   "cell_type": "code",
   "execution_count": 5,
   "metadata": {},
   "outputs": [
    {
     "data": {
      "image/png": "[encoded data removed]",
      "text/plain": [
       "<matplotlib.figure.Figure at 0x7efd098b1b90>"
      ]
     },
     "metadata": {},
     "output_type": "display_data"
    }
   ],
   "source": [
    "# Samples corresponding to the last digit of (your roll number + 1) % 10 (plot b)\n",
    "# Roll number = 20171025\n",
    "from scipy.linalg import eigh\n",
    "mat_5 = []\n",
    "for i in range(0,6000):\n",
    "    if(train_labels[i]==6.0):\n",
    "        mat_5.append(train_data[i])\n",
    "input_matrix = np.asarray(mat_5)\n",
    "x = np.cov(input_matrix.T)\n",
    "values, vectors = eigh(x, eigvals=(684,783))\n",
    "\n",
    "for i in range(0, 100):\n",
    "    values[i]/= values[-1]\n",
    "    \n",
    "values[:] = values[::-1]\n",
    "y = []\n",
    "x = []\n",
    "for i in range(0, 100):\n",
    "    x.append(i)\n",
    "    y.append(values[i])\n",
    "plt.bar(x,y) \n",
    "plt.show()"
   ]
  },
  {
   "cell_type": "code",
   "execution_count": 3,
   "metadata": {
    "scrolled": true
   },
   "outputs": [
    {
     "data": {
      "image/png": "[encoded data removed]",
      "text/plain": [
       "<matplotlib.figure.Figure at 0x7fa100fee190>"
      ]
     },
     "metadata": {},
     "output_type": "display_data"
    }
   ],
   "source": [
    "# All training data (plot c)\n",
    "from scipy.linalg import eigh\n",
    "import matplotlib.pyplot as plt\n",
    "import numpy as np\n",
    "x = np.cov(train_data.T)\n",
    "values, vectors = eigh(x, eigvals=(684,783))\n",
    "\n",
    "for i in range(0, 100):\n",
    "    values[i]/= values[-1]\n",
    "    \n",
    "values[:] = values[::-1]\n",
    "# print(values)\n",
    "y = []\n",
    "x = []\n",
    "for i in range(0, 100):\n",
    "    x.append(i)\n",
    "    y.append(values[i])\n",
    "\n",
    "plt.bar(x,y) \n",
    "plt.show()"
   ]
  },
  {
   "cell_type": "code",
   "execution_count": 6,
   "metadata": {},
   "outputs": [
    {
     "data": {
      "image/png": "[encoded data removed]",
      "text/plain": [
       "<matplotlib.figure.Figure at 0x7efd090adbd0>"
      ]
     },
     "metadata": {},
     "output_type": "display_data"
    }
   ],
   "source": [
    "# Randomly selected 50% of the training data (plot d)\n",
    "indices = np.random.choice(train_data.shape[0], 3000, replace = False)\n",
    "mat = []\n",
    "for i in indices:\n",
    "    mat.append(train_data[i])\n",
    "\n",
    "input_matrix = np.asarray(mat)\n",
    "x = np.cov(input_matrix.T)\n",
    "values, vectors = eigh(x, eigvals=(684,783))\n",
    "\n",
    "for i in range(0, 100):\n",
    "    values[i]/= values[-1]\n",
    "    \n",
    "values[:] = values[::-1]\n",
    "y = []\n",
    "x = []\n",
    "for i in range(0, 100):\n",
    "    x.append(i)\n",
    "    y.append(values[i])\n",
    "\n",
    "plt.bar(x,y) \n",
    "plt.show()"
   ]
  },
  {
   "cell_type": "markdown",
   "metadata": {
    "editable": false
   },
   "source": [
    "### 1.3.1 Question 1\n",
    "- Are plots a and b different? Why?\n",
    "- Are plots b and c different? Why?\n",
    "- What are the approximate ranks of each plot?"
   ]
  },
  {
   "cell_type": "markdown",
   "metadata": {},
   "source": [
    "---\n",
    "Your answers here (double click to edit)\n",
    "\n",
    "---"
   ]
  },
  {
   "cell_type": "markdown",
   "metadata": {
    "editable": false
   },
   "source": [
    "### 1.3.1 Question 2\n",
    "- How many possible images could there be?\n",
    "- What percentage is accessible to us as MNIST data?\n",
    "- If we had acces to all the data, how would the eigen value spectrum of the covariance matrix look?"
   ]
  },
  {
   "cell_type": "markdown",
   "metadata": {},
   "source": [
    "---\n",
    "Your answers here (double click to edit)\n",
    "\n",
    "---"
   ]
  },
  {
   "cell_type": "markdown",
   "metadata": {
    "editable": false
   },
   "source": [
    "## 1.3.2 Linear Transformation\n",
    "---\n",
    "### 1.3.2 Question 1\n",
    "How does the eigen spectrum change if the original data was multiplied by an orthonormal matrix? Answer analytically and then also validate experimentally."
   ]
  },
  {
   "cell_type": "markdown",
   "metadata": {},
   "source": [
    "---\n",
    "Analytical answer here (double click to edit)\n",
    "\n",
    "---"
   ]
  },
  {
   "cell_type": "code",
   "execution_count": 9,
   "metadata": {},
   "outputs": [
    {
     "name": "stdout",
     "output_type": "stream",
     "text": [
      "(6000, 784)\n"
     ]
    },
    {
     "data": {
      "image/png": "[encoded data removed]",
      "text/plain": [
       "<matplotlib.figure.Figure at 0x7efcfdd1e850>"
      ]
     },
     "metadata": {},
     "output_type": "display_data"
    }
   ],
   "source": [
    "# Experimental validation here.\n",
    "# Multiply your data (train_data) with an orthonormal matrix and plot the\n",
    "# eigen value specturm of the new covariance matrix.\n",
    "from scipy.stats import ortho_group\n",
    "from scipy.linalg import eigh\n",
    "m = ortho_group.rvs(784)\n",
    "# print(m.shape)\n",
    "prod = np.dot(train_data,m)\n",
    "print(prod.shape)\n",
    "x = np.cov(prod.T)\n",
    "values, vectors = eigh(x, eigvals=(684,783))\n",
    "\n",
    "for i in range(0, 100):\n",
    "    values[i]/= values[-1]\n",
    "    \n",
    "values[:] = values[::-1]\n",
    "# print(values)\n",
    "y = []\n",
    "x = []\n",
    "for i in range(0, 100):\n",
    "    x.append(i)\n",
    "    y.append(values[i])\n",
    "\n",
    "plt.bar(x,y) \n",
    "plt.show()"
   ]
  },
  {
   "cell_type": "markdown",
   "metadata": {
    "editable": false
   },
   "source": [
    "### 1.3.2 Question 2\n",
    "If  samples  were  multiplied  by  784 × 784  matrix  of rank 1 or 2, (rank deficient matrices), how will the eigen spectrum look like?"
   ]
  },
  {
   "cell_type": "markdown",
   "metadata": {},
   "source": [
    "---\n",
    "Your answer here (double click to edit)\n",
    "\n",
    "---"
   ]
  },
  {
   "cell_type": "markdown",
   "metadata": {
    "editable": false
   },
   "source": [
    "### 1.3.2 Question 3\n",
    "Project the original data into the first and second eigenvectors and plot in 2D"
   ]
  },
  {
   "cell_type": "code",
   "execution_count": 10,
   "metadata": {},
   "outputs": [
    {
     "data": {
      "image/png": "[encoded data removed]",
      "text/plain": [
       "<matplotlib.figure.Figure at 0x7efd05be6e50>"
      ]
     },
     "metadata": {},
     "output_type": "display_data"
    }
   ],
   "source": [
    "# Plotting code here\n",
    "from scipy.linalg import eigh\n",
    "x = np.cov(train_data.T)\n",
    "values, vectors = eigh(x, eigvals=(782,783))\n",
    "\n",
    "proj_points = np.dot(train_data, vectors)\n",
    "x = []\n",
    "y = []\n",
    "for i in range(0, 6000):\n",
    "    x.append(proj_points[i][0])\n",
    "    y.append(proj_points[i][1])\n",
    "plt.scatter(x, y)\n",
    "plt.show()"
   ]
  },
  {
   "cell_type": "markdown",
   "metadata": {
    "editable": false
   },
   "source": [
    "## 1.3.3 Probabilistic View\n",
    "---\n",
    "In this section you will classify the test set by fitting multivariate gaussians on the train set, with different choices for decision boundaries. On running, your code should print the accuracy on your test set."
   ]
  },
  {
   "cell_type": "code",
   "execution_count": 8,
   "metadata": {},
   "outputs": [],
   "source": [
    "# Print accuracy on the test set using MLE"
   ]
  },
  {
   "cell_type": "code",
   "execution_count": 34,
   "metadata": {},
   "outputs": [],
   "source": [
    "# Print accuracy on the test set using MAP\n",
    "# (assume a reasonable prior and mention it in the comments)\n"
   ]
  },
  {
   "cell_type": "code",
   "execution_count": 19,
   "metadata": {},
   "outputs": [],
   "source": [
    "# Print accuracy using Bayesian pairwise majority voting method"
   ]
  },
  {
   "cell_type": "code",
   "execution_count": 11,
   "metadata": {},
   "outputs": [
    {
     "ename": "ValueError",
     "evalue": "could not broadcast input array from shape (784,784) into shape (784)",
     "output_type": "error",
     "traceback": [
      "\u001b[0;31m---------------------------------------------------------------------------\u001b[0m",
      "\u001b[0;31mValueError\u001b[0m                                Traceback (most recent call last)",
      "\u001b[0;32m<ipython-input-11-e4b668ab6087>\u001b[0m in \u001b[0;36m<module>\u001b[0;34m\u001b[0m\n\u001b[1;32m     44\u001b[0m \u001b[0mcount\u001b[0m\u001b[0;34m=\u001b[0m\u001b[0;36m0\u001b[0m\u001b[0;34m\u001b[0m\u001b[0;34m\u001b[0m\u001b[0m\n\u001b[1;32m     45\u001b[0m \u001b[0;32mfor\u001b[0m \u001b[0mj\u001b[0m \u001b[0;32min\u001b[0m \u001b[0mrange\u001b[0m\u001b[0;34m(\u001b[0m\u001b[0;36m1000\u001b[0m\u001b[0;34m)\u001b[0m\u001b[0;34m:\u001b[0m\u001b[0;34m\u001b[0m\u001b[0;34m\u001b[0m\u001b[0m\n\u001b[0;32m---> 46\u001b[0;31m     \u001b[0mx\u001b[0m\u001b[0;34m=\u001b[0m\u001b[0mfind_max_class\u001b[0m\u001b[0;34m(\u001b[0m\u001b[0mtest_data\u001b[0m\u001b[0;34m[\u001b[0m\u001b[0mj\u001b[0m\u001b[0;34m,\u001b[0m\u001b[0;34m:\u001b[0m\u001b[0;34m]\u001b[0m\u001b[0;34m)\u001b[0m\u001b[0;34m\u001b[0m\u001b[0;34m\u001b[0m\u001b[0m\n\u001b[0m\u001b[1;32m     47\u001b[0m     \u001b[0my\u001b[0m \u001b[0;34m=\u001b[0m \u001b[0mint\u001b[0m\u001b[0;34m(\u001b[0m\u001b[0mtest_labels\u001b[0m\u001b[0;34m[\u001b[0m\u001b[0mj\u001b[0m\u001b[0;34m]\u001b[0m\u001b[0;34m)\u001b[0m\u001b[0;34m\u001b[0m\u001b[0;34m\u001b[0m\u001b[0m\n\u001b[1;32m     48\u001b[0m     \u001b[0;32mif\u001b[0m \u001b[0mx\u001b[0m \u001b[0;34m==\u001b[0m \u001b[0my\u001b[0m\u001b[0;34m:\u001b[0m\u001b[0;34m\u001b[0m\u001b[0;34m\u001b[0m\u001b[0m\n",
      "\u001b[0;32m<ipython-input-11-e4b668ab6087>\u001b[0m in \u001b[0;36mfind_max_class\u001b[0;34m(test_sample)\u001b[0m\n\u001b[1;32m     19\u001b[0m     \u001b[0;32mfor\u001b[0m \u001b[0mi\u001b[0m \u001b[0;32min\u001b[0m \u001b[0mrange\u001b[0m\u001b[0;34m(\u001b[0m\u001b[0;36m0\u001b[0m\u001b[0;34m,\u001b[0m \u001b[0;36m10\u001b[0m\u001b[0;34m)\u001b[0m\u001b[0;34m:\u001b[0m\u001b[0;31m#cov.T\u001b[0m\u001b[0;34m\u001b[0m\u001b[0;34m\u001b[0m\u001b[0m\n\u001b[1;32m     20\u001b[0m         \u001b[0mx\u001b[0m \u001b[0;34m=\u001b[0m \u001b[0mnp\u001b[0m\u001b[0;34m.\u001b[0m\u001b[0mcov\u001b[0m\u001b[0;34m(\u001b[0m\u001b[0;34m(\u001b[0m\u001b[0mtrain_data\u001b[0m\u001b[0;34m[\u001b[0m\u001b[0mnp\u001b[0m\u001b[0;34m.\u001b[0m\u001b[0mwhere\u001b[0m\u001b[0;34m(\u001b[0m\u001b[0mtrain_labels\u001b[0m \u001b[0;34m==\u001b[0m \u001b[0mi\u001b[0m\u001b[0;34m)\u001b[0m\u001b[0;34m]\u001b[0m\u001b[0;34m)\u001b[0m\u001b[0;34m.\u001b[0m\u001b[0mT\u001b[0m\u001b[0;34m)\u001b[0m\u001b[0;34m\u001b[0m\u001b[0;34m\u001b[0m\u001b[0m\n\u001b[0;32m---> 21\u001b[0;31m         \u001b[0msigma\u001b[0m\u001b[0;34m[\u001b[0m\u001b[0mi\u001b[0m\u001b[0;34m,\u001b[0m\u001b[0;34m:\u001b[0m\u001b[0;34m]\u001b[0m \u001b[0;34m=\u001b[0m \u001b[0mx\u001b[0m\u001b[0;34m\u001b[0m\u001b[0;34m\u001b[0m\u001b[0m\n\u001b[0m\u001b[1;32m     22\u001b[0m \u001b[0;34m\u001b[0m\u001b[0m\n\u001b[1;32m     23\u001b[0m \u001b[0;31m#     logdet_value = defaultdict(float)\u001b[0m\u001b[0;34m\u001b[0m\u001b[0;34m\u001b[0m\u001b[0;34m\u001b[0m\u001b[0m\n",
      "\u001b[0;31mValueError\u001b[0m: could not broadcast input array from shape (784,784) into shape (784)"
     ]
    }
   ],
   "source": [
    "from collections import defaultdict\n",
    "def classify(train_data, train_labels):\n",
    "    classes = defaultdict(list)\n",
    "    for i in range(0, len(train_data)):\n",
    "        x = int(train_labels[i])\n",
    "        classes[x].append(train_data[i])\n",
    "    return classes\n",
    "\n",
    "def find_max_class(test_sample):\n",
    "#     mean = defaultdict(list)\n",
    "    mean = np.zeros(shape=(10, 784))\n",
    "    for i in range(0, 10):#mean \n",
    "#         x = np.asarray(classes[i])\n",
    "        m = np.mean(train_data[np.where(train_labels == i)], axis=0)\n",
    "        mean[i,:] = m\n",
    "    \n",
    "#     sigma = defaultdict(list)\n",
    "    sigma = np.zeros(shape=(10,784))\n",
    "    for i in range(0, 10):#cov.T\n",
    "        x = np.cov((train_data[np.where(train_labels == i)]).T)\n",
    "        sigma[i,:] = x\n",
    "    \n",
    "#     logdet_value = defaultdict(float)\n",
    "    logdet_value = np.zeros(shape=(10))\n",
    "    for i in range(0, 10):#cov\n",
    "        sig = np.cov((train_data[np.where(train_labels == i)]))\n",
    "        sign, logdet = np.linalg.slogdet(sig)\n",
    "        logdet_value[i] = logdet\n",
    "\n",
    "    max_val = -1000000\n",
    "    ans = np.zeros(10)\n",
    "    for i in range(0, 10):\n",
    "        value1 = logdet_value[i]\n",
    "        sigma_inv = np.linalg.pinv(sigma[i])\n",
    "        value2 = np.dot((test_sample - mean[i]).T,sigma_inv)\n",
    "        value2 = np.dot(value2, (test_sample-mean[i]))\n",
    "        ans[i] = -1*(value1 + value2)\n",
    "        max_index=np.argmax(ans)\n",
    "    return max_index\n",
    "\n",
    "\n",
    "# classes = classify(train_data, train_labels)\n",
    "j = 0\n",
    "count=0\n",
    "for j in range(1000):\n",
    "    x=find_max_class(test_data[j,:])\n",
    "    y = int(test_labels[j])\n",
    "    if x == y:\n",
    "        count+=1\n",
    "\n",
    "accuracy = float(count)/float(1000)\n",
    "print(accuracy)\n"
   ]
  },
  {
   "cell_type": "code",
   "execution_count": 11,
   "metadata": {},
   "outputs": [],
   "source": [
    "# Print accuracy using Simple Perpendicular Bisector majority voting method"
   ]
  },
  {
   "cell_type": "markdown",
   "metadata": {
    "editable": false
   },
   "source": [
    "### 1.3.3 Question 4\n",
    "Compare performances and salient observations"
   ]
  },
  {
   "cell_type": "markdown",
   "metadata": {},
   "source": [
    "---\n",
    "Your analysis here (double click to edit)\n",
    "\n",
    "---"
   ]
  },
  {
   "cell_type": "markdown",
   "metadata": {
    "editable": false
   },
   "source": [
    "## 1.3.4 Nearest Neighbour based Tasks and Design\n",
    "---\n",
    "### 1.3.4 Question 1 : NN Classification with various K\n",
    "Implement a KNN classifier and print accuracies on the test set with K=1,3,7"
   ]
  },
  {
   "cell_type": "code",
   "execution_count": 11,
   "metadata": {},
   "outputs": [
    {
     "name": "stdout",
     "output_type": "stream",
     "text": [
      "Accuracy in percentage for k=1 is\n",
      "90.7\n",
      "Accuracy in percentage for k=3 is\n",
      "92.2\n",
      "Accuracy in percentage for k=7 is\n",
      "91.7\n"
     ]
    }
   ],
   "source": [
    "# Your code here\n",
    "import numpy as np\n",
    "from collections import defaultdict\n",
    "\n",
    "def euclidean_distance(img_a, img_b):\n",
    "    return sum((img_a - img_b) ** 2)\n",
    "\n",
    "def find_majority(labels):\n",
    "    counter = defaultdict(int)\n",
    "    for label in labels:\n",
    "        counter[label] += 1\n",
    "        \n",
    "    majority_count = max(counter.values())\n",
    "    for key, value in counter.items():\n",
    "        if value == majority_count:\n",
    "            return key\n",
    "\n",
    "train_images = train_data\n",
    "test_images = test_data\n",
    "test_labels\n",
    "\n",
    "def predict(k, train_images, train_labels, test_image):\n",
    "    # storing (distance, label)\n",
    "    distances = [(euclidean_distance(test_image, image), label)\n",
    "                    for (image, label) in zip(train_images, train_labels)]\n",
    "    by_distances = sorted(distances, key=lambda (distance, _): distance)\n",
    "    # k closest labels\n",
    "    k_labels = [label for (_, label) in by_distances[:k]]\n",
    "    return find_majority(k_labels)\n",
    "\n",
    "\n",
    "i = 0\n",
    "total_correct = 0\n",
    "for test_image in test_images:\n",
    "    pred = predict(1, train_images, train_labels, test_image)\n",
    "    if pred == test_labels[i]:\n",
    "        total_correct += 1\n",
    "#     print('\\tpred:', pred, '\\torig:', test_labels[i])\n",
    "    i += 1\n",
    "print(\"Accuracy in percentage for k=1 is\")\n",
    "print(100*float(total_correct)/float(len(test_images)))\n",
    "\n",
    "i = 0\n",
    "total_correct = 0\n",
    "for test_image in test_images:\n",
    "    pred = predict(3, train_images, train_labels, test_image)\n",
    "    if pred == test_labels[i]:\n",
    "        total_correct += 1\n",
    "#     print('\\tpred:', pred, '\\torig:', test_labels[i])\n",
    "    i += 1\n",
    "print(\"Accuracy in percentage for k=3 is\")\n",
    "print(100*float(total_correct)/float(len(test_images)))\n",
    "\n",
    "i = 0\n",
    "total_correct = 0\n",
    "for test_image in test_images:\n",
    "    pred = predict(7, train_images, train_labels, test_image)\n",
    "    if pred == test_labels[i]:\n",
    "        total_correct += 1\n",
    "#     print('\\tpred:', pred, '\\torig:', test_labels[i])\n",
    "    i += 1\n",
    "print(\"Accuracy in percentage for k=7 is\")\n",
    "print(100*float(total_correct)/float(len(test_images)))"
   ]
  },
  {
   "cell_type": "markdown",
   "metadata": {
    "editable": false
   },
   "source": [
    "### 1.3.4 Question 1 continued\n",
    "- Why / why not are the accuracies the same?\n",
    "- How do we identify the best K? Suggest a computational procedure with a logical explanation."
   ]
  },
  {
   "cell_type": "markdown",
   "metadata": {},
   "source": [
    "---\n",
    "Your analysis here (double click to edit)\n",
    "\n",
    "---"
   ]
  },
  {
   "cell_type": "markdown",
   "metadata": {
    "editable": false
   },
   "source": [
    "### 1.3.4 Question 2 :  Reverse NN based outlier detection\n",
    "A sample can be thought of as an outlier is it is NOT in the nearest neighbour set of anybody else. Expand this idea into an algorithm."
   ]
  },
  {
   "cell_type": "code",
   "execution_count": 13,
   "metadata": {
    "editable": false
   },
   "outputs": [
    {
     "name": "stdout",
     "output_type": "stream",
     "text": [
      "(20, 784)\n"
     ]
    }
   ],
   "source": [
    "# This cell reads mixed data containing both MNIST digits and English characters.\n",
    "# The labels for this mixed data are random and are hence ignored.\n",
    "mixed_data, _ = read_data(\"outliers.csv\")\n",
    "print(mixed_data.shape)"
   ]
  },
  {
   "cell_type": "code",
   "execution_count": 12,
   "metadata": {},
   "outputs": [
    {
     "name": "stdout",
     "output_type": "stream",
     "text": [
      "1 Outlier\n",
      "2 Not Outlier\n",
      "3 Outlier\n",
      "4 Not Outlier\n",
      "5 Outlier\n",
      "6 Outlier\n",
      "7 Outlier\n",
      "8 Outlier\n",
      "9 Not Outlier\n",
      "10 Outlier\n",
      "11 Not Outlier\n",
      "12 Not Outlier\n",
      "13 Not Outlier\n",
      "14 Not Outlier\n",
      "15 Not Outlier\n",
      "16 Not Outlier\n",
      "17 Not Outlier\n",
      "18 Not Outlier\n",
      "19 Outlier\n",
      "20 Not Outlier\n"
     ]
    }
   ],
   "source": [
    "import numpy as np\n",
    "from collections import defaultdict\n",
    "\n",
    "def euclidean_distance(img_a, img_b):\n",
    "    return sum((img_a - img_b) ** 2)\n",
    "\n",
    "mixed_data, _ = read_data(\"outliers.csv\")\n",
    "test_images = mixed_data\n",
    "train_images = train_data\n",
    "# Your code here\n",
    "\n",
    "\n",
    "def euclidean_distance(img_a, img_b):\n",
    "    return sum((img_a - img_b) ** 2)\n",
    "\n",
    "def get_max_dist(k, train_images, train_labels, test_image):\n",
    "    # storing (distance, label)\n",
    "    distances = [(euclidean_distance(test_image, image), label)\n",
    "                    for (image, label) in zip(train_images, train_labels)]\n",
    "    by_distances = sorted(distances, key=lambda (distance, _): distance)\n",
    "    max_dist = 0\n",
    "    for i in range(0, k):\n",
    "        max_dist = max(by_distances[i][0], max_dist)\n",
    "    return max_dist\n",
    "\n",
    "def get_min_dist(k, train_images, train_labels, test_image):\n",
    "    # storing (distance, label)\n",
    "    distances = [(euclidean_distance(test_image, image), label)\n",
    "                    for (image, label) in zip(train_images, train_labels)]\n",
    "    by_distances = sorted(distances, key=lambda (distance, _): distance)\n",
    "    min_dist = 1000000000000\n",
    "    for i in range(0, k):\n",
    "        min_dist = min(by_distances[i][0], min_dist)\n",
    "    return min_dist\n",
    "\n",
    "i=0\n",
    "diff = 0\n",
    "neighbour= defaultdict(int)\n",
    "#marking neighbour distance for each training image\n",
    "for train_image in train_images:\n",
    "    max_k_dist = get_max_dist(3, train_images, train_labels, train_image)\n",
    "    neighbour[i] += max_k_dist\n",
    "    i = i+1\n",
    "\n",
    "index = 0\n",
    "for test_image in test_images:\n",
    "    dist = get_min_dist(3, train_images, train_labels, test_image)\n",
    "    flag = 0\n",
    "    index = index + 1\n",
    "    for i in (0, len(neighbour)):\n",
    "        if(dist<neighbour[i]):\n",
    "            flag =1\n",
    "            break\n",
    "        else:\n",
    "            continue\n",
    "    if flag == 0:\n",
    "        print(index, \"Outlier\")\n",
    "    else:\n",
    "        print(index, \"Not Outlier\")"
   ]
  },
  {
   "cell_type": "markdown",
   "metadata": {
    "editable": false
   },
   "source": [
    "### 1.3.4 Question 3 : NN for regression\n",
    "Assume that each classID in the train set corresponds to a neatness score as:\n",
    "$$ neatness = \\frac{classID}{10} $$\n",
    "\n",
    "---\n",
    "Assume we had to predict the neatness score for each test sample using NN based techiniques on the train set. Describe the algorithm."
   ]
  },
  {
   "cell_type": "markdown",
   "metadata": {},
   "source": [
    "---\n",
    "Your algorithm here (double click to edit)\n",
    "\n",
    "---"
   ]
  },
  {
   "cell_type": "markdown",
   "metadata": {
    "editable": false
   },
   "source": [
    "### 1.3.4 Question 3 continued\n",
    "Validate your algorithm on the test set. This code should print mean absolute error on the test set, using the train set for NN based regression."
   ]
  },
  {
   "cell_type": "code",
   "execution_count": 13,
   "metadata": {},
   "outputs": [
    {
     "name": "stdout",
     "output_type": "stream",
     "text": [
      "Mean error is:\n",
      "0.0383122563862\n"
     ]
    }
   ],
   "source": [
    "# Your code here\n",
    "import numpy as np\n",
    "from collections import defaultdict\n",
    "\n",
    "def euclidean_distance(img_a, img_b):\n",
    "    return sum((img_a - img_b) ** 2)\n",
    "\n",
    "train_images = train_data\n",
    "test_images = test_data\n",
    "\n",
    "def predict_score(k, train_images, train_labels, test_image):\n",
    "    # storing (distance, label)\n",
    "    distances = [(euclidean_distance(test_image, image), label)\n",
    "                    for (image, label) in zip(train_images, train_labels)]\n",
    "    by_distances = sorted(distances, key=lambda (distance, _): distance)\n",
    "    score = 0\n",
    "    dist = 0\n",
    "    for i in range(0, k):\n",
    "        score += by_distances[i][0]*(float(by_distances[i][1])/10.0)\n",
    "        dist += by_distances[i][0]\n",
    "    neatness_score = float(score)/float(dist)\n",
    "    return neatness_score\n",
    "\n",
    "i=0\n",
    "diff = 0\n",
    "for test_image in test_images:\n",
    "    pred = predict_score(3, train_images, train_labels, test_image)\n",
    "#     print(pred, test_labels[i]/10.0)\n",
    "    diff += abs(pred - (test_labels[i]/10.0))\n",
    "    i += 1\n",
    "    \n",
    "print(\"Mean error is:\")\n",
    "print(float(diff)/float(i))\n"
   ]
  },
  {
   "cell_type": "markdown",
   "metadata": {
    "editable": false
   },
   "source": [
    "---\n",
    "# FOLLOW THE SUBMISSION INSTRUCTIONS\n",
    "---"
   ]
  }
 ],
 "metadata": {
  "kernelspec": {
   "display_name": "Python 3",
   "language": "python",
   "name": "python3"
  },
  "language_info": {
   "codemirror_mode": {
    "name": "ipython",
    "version": 3
   },
   "file_extension": ".py",
   "mimetype": "text/x-python",
   "name": "python",
   "nbconvert_exporter": "python",
   "pygments_lexer": "ipython3",
   "version": "3.7.1"
  }
 },
 "nbformat": 4,
 "nbformat_minor": 2
}
