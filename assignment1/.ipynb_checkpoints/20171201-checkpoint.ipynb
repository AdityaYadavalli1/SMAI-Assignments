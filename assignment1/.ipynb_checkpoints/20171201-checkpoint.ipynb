{
 "cells": [
  {
   "cell_type": "markdown",
   "metadata": {
    "editable": false
   },
   "source": [
    "# Assignment 1\n",
    "This jupyter notebook is meant to be used in conjunction with the full questions in the assignment pdf.\n",
    "\n",
    "## Instructions\n",
    "- Write your code and analyses in the indicated cells.\n",
    "- Ensure that this notebook runs without errors when the cells are run in sequence.\n",
    "- Do not attempt to change the contents of the other cells.\n",
    "\n",
    "## Submission\n",
    "- Ensure that this notebook runs without errors when the cells are run in sequence.\n",
    "- Rename the notebook to `<roll_number>.ipynb` and submit ONLY the notebook file on moodle."
   ]
  },
  {
   "cell_type": "markdown",
   "metadata": {
    "editable": false
   },
   "source": [
    "### Environment setup\n",
    "\n",
    "The following code reads the train and test data (provided along with this template) and outputs the data and labels as numpy arrays. Use these variables in your code.\n",
    "\n",
    "---\n",
    "#### Note on conventions\n",
    "In mathematical notation, the convention is tha data matrices are column-indexed, which means that a input data $x$ has shape $[d, n]$, where $d$ is the number of dimensions and $n$ is the number of data points, respectively.\n",
    "\n",
    "Programming languages have a slightly different convention. Data matrices are of shape $[n, d]$. This has the benefit of being able to access the ith data point as a simple `data[i]`.\n",
    "\n",
    "What this means is that you need to be careful about your handling of matrix dimensions. For example, while the covariance matrix (of shape $[d,d]$) for input data $x$ is calculated as $(x-u)(x-u)^T$, while programming you would do $(x-u)^T(x-u)$ to get the correct output shapes."
   ]
  },
  {
   "cell_type": "code",
   "execution_count": 2,
   "metadata": {
    "editable": false,
    "scrolled": true
   },
   "outputs": [
    {
     "name": "stdout",
     "output_type": "stream",
     "text": [
      "(6000, 784) (1000, 784)\n",
      "(6000,) (1000,)\n"
     ]
    }
   ],
   "source": [
    "from __future__ import print_function\n",
    "\n",
    "import numpy as np\n",
    "import matplotlib.pyplot as plt\n",
    "\n",
    "def read_data(filename):\n",
    "    with open(filename, 'r') as f:\n",
    "        lines = f.readlines()\n",
    "    \n",
    "    num_points = len(lines)\n",
    "    dim_points = 28 * 28\n",
    "    data = np.empty((num_points, dim_points))\n",
    "    labels = np.empty(num_points)\n",
    "    \n",
    "    for ind, line in enumerate(lines):\n",
    "        num = line.split(',')\n",
    "        labels[ind] = int(num[0])\n",
    "        data[ind] = [ int(x) for x in num[1:] ]\n",
    "        \n",
    "    return (data, labels)\n",
    "\n",
    "train_data, train_labels = read_data(\"sample_train.csv\")\n",
    "test_data, test_labels = read_data(\"sample_test.csv\")\n",
    "print(train_data.shape, test_data.shape)\n",
    "print(train_labels.shape, test_labels.shape)"
   ]
  },
  {
   "cell_type": "markdown",
   "metadata": {
    "editable": false
   },
   "source": [
    "# Questions\n",
    "---\n",
    "## 1.3.1 Representation\n",
    "The next code cells, when run, should plot the eigen value spectrum of the covariance matrices corresponding to the mentioned samples. Normalize the eigen value spectrum and only show the first 100 values."
   ]
  },
  {
   "cell_type": "code",
   "execution_count": 10,
   "metadata": {},
   "outputs": [
    {
     "name": "stdout",
     "output_type": "stream",
     "text": [
      "321\n",
      "rank_actual 322\n"
     ]
    },
    {
     "data": {
      "image/png": "[encoded data removed]",
      "text/plain": [
       "<Figure size 432x288 with 1 Axes>"
      ]
     },
     "metadata": {
      "needs_background": "light"
     },
     "output_type": "display_data"
    }
   ],
   "source": [
    "# Samples corresponding to the last digit of your roll number (plot a)\n",
    "mytrain_data = np.zeros(shape=(6000,784))\n",
    "eigenvalues = np.array([])\n",
    "j=0\n",
    "for i in range(6000):\n",
    "    \n",
    "    if train_labels[i] == 1:\n",
    "        mytrain_data[j,:]=train_data[i,:]\n",
    "        j=j+1        \n",
    "\n",
    "eigenvalues = np.linalg.eigvals(np.cov(mytrain_data.T))\n",
    "mean = np.mean(eigenvalues)\n",
    "std = np.std(eigenvalues)\n",
    "eigenvalues = np.sort(eigenvalues)\n",
    "eigenvalues=np.flip(eigenvalues)\n",
    "threshold = 1e-5\n",
    "rank_approx = 0\n",
    "for i in range(len(eigenvalues)):\n",
    "    if eigenvalues[i] >= threshold:\n",
    "        rank_approx = rank_approx+1\n",
    "print(rank_approx)\n",
    "print(\"rank_actual\",np.linalg.matrix_rank(np.cov(mytrain_data.T)))\n",
    "plt.plot((eigenvalues[0:100].real - mean)/std)\n",
    "plt.show()\n",
    "\n"
   ]
  },
  {
   "cell_type": "code",
   "execution_count": 11,
   "metadata": {},
   "outputs": [
    {
     "name": "stdout",
     "output_type": "stream",
     "text": [
      "520\n",
      "rank_actual 520\n"
     ]
    },
    {
     "data": {
      "image/png": "[encoded data removed]",
      "text/plain": [
       "<Figure size 432x288 with 1 Axes>"
      ]
     },
     "metadata": {
      "needs_background": "light"
     },
     "output_type": "display_data"
    }
   ],
   "source": [
    "# Samples corresponding to the last digit of (your roll number + 1) % 10 (plot b)\n",
    "mytrain_data = np.zeros(shape=(6000,784))\n",
    "eigenvalues = np.array([])\n",
    "j=0\n",
    "for i in range(6000):\n",
    "    \n",
    "    if train_labels[i] == 2:\n",
    "        mytrain_data[j,:]=train_data[i,:]\n",
    "        j=j+1        \n",
    "\n",
    "eigenvalues = np.linalg.eigvals(np.cov(mytrain_data.T))\n",
    "mean = np.mean(eigenvalues)\n",
    "std = np.std(eigenvalues)\n",
    "eigenvalues = np.sort(eigenvalues)\n",
    "eigenvalues=np.flip(eigenvalues)\n",
    "threshold = 1e-5\n",
    "rank_approx = 0\n",
    "for i in range(len(eigenvalues)):\n",
    "    if eigenvalues[i] >= threshold:\n",
    "        rank_approx = rank_approx+1\n",
    "print(rank_approx)\n",
    "print(\"rank_actual\",np.linalg.matrix_rank(np.cov(mytrain_data.T)))\n",
    "plt.plot((eigenvalues[0:100].real - mean)/std)\n",
    "plt.show()"
   ]
  },
  {
   "cell_type": "code",
   "execution_count": 13,
   "metadata": {},
   "outputs": [
    {
     "name": "stdout",
     "output_type": "stream",
     "text": [
      "658\n",
      "rank_actual 658\n"
     ]
    },
    {
     "data": {
      "image/png": "[encoded data removed]",
      "text/plain": [
       "<Figure size 432x288 with 1 Axes>"
      ]
     },
     "metadata": {
      "needs_background": "light"
     },
     "output_type": "display_data"
    }
   ],
   "source": [
    "# All training data (plot c)\n",
    "mytrain_data = np.zeros(shape=(6000,784))\n",
    "eigenvalues = np.array([])\n",
    "j=0\n",
    "# for i in range(6000):\n",
    "    \n",
    "#     if train_labels[i] == 2:\n",
    "#     mytrain_data[i,:]=train_data[i,:]\n",
    "#     j=j+1        \n",
    "\n",
    "eigenvalues = np.linalg.eigvals(np.cov(train_data.T))\n",
    "mean = np.mean(eigenvalues)\n",
    "std = np.std(eigenvalues)\n",
    "eigenvalues = np.sort(eigenvalues)\n",
    "eigenvalues=np.flip(eigenvalues)\n",
    "threshold = 1e-5\n",
    "rank_approx = 0\n",
    "for i in range(len(eigenvalues)):\n",
    "    if eigenvalues[i] >= threshold:\n",
    "        rank_approx = rank_approx+1\n",
    "print(rank_approx)\n",
    "print(\"rank_actual\",np.linalg.matrix_rank(np.cov(train_data.T)))\n",
    "plt.plot((eigenvalues[0:100].real - mean)/std)\n",
    "plt.show()"
   ]
  },
  {
   "cell_type": "code",
   "execution_count": 172,
   "metadata": {},
   "outputs": [
    {
     "data": {
      "image/png": "[encoded data removed]",
      "text/plain": [
       "<Figure size 432x288 with 1 Axes>"
      ]
     },
     "metadata": {
      "needs_background": "light"
     },
     "output_type": "display_data"
    }
   ],
   "source": [
    "# Randomly selected 50% of the training data (plot d)\n",
    "arr = np.random.binomial(1, 0.5, 6000)\n",
    "mytrain_data = np.zeros(shape=(6000,784))\n",
    "eigenvalues = np.array([])\n",
    "j=0\n",
    "for i in range(6000):\n",
    "    if arr[i] == 1:\n",
    "        mytrain_data[j,:]=train_data[i,:]      \n",
    "        j=j+1\n",
    "eigenvalues = np.linalg.eigvals(np.cov(mytrain_data.T))\n",
    "mean = np.mean(eigenvalues)\n",
    "std = np.std(eigenvalues)\n",
    "eigenvalues = np.sort(eigenvalues)\n",
    "eigenvalues = np.flip(eigenvalues)\n",
    "plt.plot((eigenvalues[0:100]-mean)/std)\n",
    "plt.show()"
   ]
  },
  {
   "cell_type": "markdown",
   "metadata": {
    "editable": false
   },
   "source": [
    "### 1.3.1 Question 1\n",
    "- Are plots a and b different? Why?\n",
    "- Are plots b and c different? Why?\n",
    "- What are the approximate ranks of each plot?"
   ]
  },
  {
   "cell_type": "markdown",
   "metadata": {},
   "source": [
    "---\n",
    "Your answers here (double click to edit)\n",
    "\n",
    "In this data, all 784 dimensions are not independent. The covariance matrix shows this. So, the whole data lies in a space less than that of 784. The plotted values i.e eigen value spectrum represents the components of the data. Plots a and b are similar eventhough they have its of 1 and 2 respectively because they have similar (data) distribution. But the whole train set has higher data variance i.e eventhough the data distribution is similar, the varies a lot compared to the data of class ID 1 and 2 because each classID may vary differently and when all classID are combined the directions in which they vary cause the whole train set vary more. Hence the eigen value spectrum of covariance matrix of train set has more significant bins than the eigen spectrum of covariance matrix of one particular classID.\n",
    "\n",
    "<br>\n",
    "\n",
    "Approximate ranks are printed. Please go above and check. \n",
    "\n",
    "---"
   ]
  },
  {
   "cell_type": "markdown",
   "metadata": {
    "editable": false
   },
   "source": [
    "### 1.3.1 Question 2\n",
    "- How many possible images could there be?\n",
    "- What percentage is accessible to us as MNIST data?\n",
    "- If we had acces to all the data, how would the eigen value spectrum of the covariance matrix look?"
   ]
  },
  {
   "cell_type": "markdown",
   "metadata": {},
   "source": [
    "---\n",
    "Ideally, it is limited by the precision of the computer because each of the 784 dimensions can take a floating point. But if we assume that it can take only binary values i.e 0,1 then the number is 2^784. \n",
    "<br>\n",
    "Percentage available to us as training data is (6000/2^784)* 100. This value comes out to be something close to  5.89704* 10^-231. \n",
    "<br>\n",
    "The eigenvales of the spectrum would be equal because if we had access to all of the data then we would not find covariance between two classIDs. That means the covariance matrix would we diagonal and all the diagonal elements would be equal to each other.So, the spectrum will have equal non-zero values followed by zeroes.   \n",
    "So, the eigen spectrum will look like a step.\n",
    "\n",
    "---"
   ]
  },
  {
   "cell_type": "markdown",
   "metadata": {
    "editable": false
   },
   "source": [
    "## 1.3.2 Linear Transformation\n",
    "---\n",
    "### 1.3.2 Question 1\n",
    "How does the eigen spectrum change if the original data was multiplied by an orthonormal matrix? Answer analytically and then also validate experimentally."
   ]
  },
  {
   "cell_type": "markdown",
   "metadata": {},
   "source": [
    "---\n",
    "Orthonormal matrices have full rank. Hence the columns of the matrix can act as orthonormal basis. If we change the basis, then the eigen values will still remain same. We have also proved this in HW-4 (question 2).\n",
    "\n",
    "---"
   ]
  },
  {
   "cell_type": "code",
   "execution_count": 173,
   "metadata": {},
   "outputs": [
    {
     "data": {
      "image/png": "[encoded data removed]",
      "text/plain": [
       "<Figure size 432x288 with 1 Axes>"
      ]
     },
     "metadata": {
      "needs_background": "light"
     },
     "output_type": "display_data"
    }
   ],
   "source": [
    "# Experimental validation here.\n",
    "# Multiply your data (train_data) with an orthonormal matrix and plot the\n",
    "# eigen value specturm of the new covariance matrix.\n",
    "\n",
    "# code goes here\n",
    "def rvs(dim=3):\n",
    "     random_state = np.random\n",
    "     H = np.eye(dim)\n",
    "     D = np.ones((dim,))\n",
    "     for n in range(1, dim):\n",
    "         x = random_state.normal(size=(dim-n+1,))\n",
    "         D[n-1] = np.sign(x[0])\n",
    "         x[0] -= D[n-1]*np.sqrt((x*x).sum())\n",
    "         # Householder transformation\n",
    "         Hx = (np.eye(dim-n+1) - 2.*np.outer(x, x)/(x*x).sum())\n",
    "         mat = np.eye(dim)\n",
    "         mat[n-1:, n-1:] = Hx\n",
    "         H = np.dot(H, mat)\n",
    "         # Fix the last sign such that the determinant is 1\n",
    "     D[-1] = (-1)**(1-(dim % 2))*D.prod()\n",
    "     # Equivalent to np.dot(np.diag(D), H) but faster, apparently\n",
    "     H = (D*H.T).T\n",
    "     return H\n",
    "x=rvs(784)\n",
    "res=np.matmul(train_data, x)\n",
    "# print(res)\n",
    "mytrain_data = np.zeros(shape=(6000,784))\n",
    "eigenvalues = np.array([])\n",
    "j=0\n",
    "for i in range(6000):\n",
    "    \n",
    "        mytrain_data[i,:]=res[i,:]      \n",
    "\n",
    "eigenvalues = np.linalg.eigvals(np.cov(res.T))\n",
    "mean = np.mean(eigenvalues)\n",
    "std = np.std(eigenvalues)\n",
    "eigenvalues = np.sort(eigenvalues)\n",
    "eigenvalues=np.flip(eigenvalues)\n",
    "plt.plot((eigenvalues-mean)/std)\n",
    "# plt.hist((eigenvalues-mean)/std, bins=100)\n",
    "plt.show()"
   ]
  },
  {
   "cell_type": "markdown",
   "metadata": {
    "editable": false
   },
   "source": [
    "### 1.3.2 Question 2\n",
    "If  samples  were  multiplied  by  784 × 784  matrix  of rank 1 or 2, (rank deficient matrices), how will the eigen spectrum look like?"
   ]
  },
  {
   "cell_type": "markdown",
   "metadata": {},
   "source": [
    "---\n",
    "There will be only 1 or 2 non-zero eigen values using the formula rank(AB) <= min(rank(A),rank(B)). So rank of AB is less than or equal to 2. We know that the no. of non-zero eigen values is equal to or less than the rank of the matrix. So, the eigen spectrum will have 2 non-zero values. \n",
    "\n",
    "---"
   ]
  },
  {
   "cell_type": "markdown",
   "metadata": {
    "editable": false
   },
   "source": [
    "### 1.3.2 Question 3\n",
    "Project the original data into the first and second eigenvectors and plot in 2D"
   ]
  },
  {
   "cell_type": "code",
   "execution_count": 58,
   "metadata": {},
   "outputs": [
    {
     "data": {
      "image/png": "[encoded data removed]",
      "text/plain": [
       "<Figure size 432x288 with 1 Axes>"
      ]
     },
     "metadata": {
      "needs_background": "light"
     },
     "output_type": "display_data"
    }
   ],
   "source": [
    "# Plotting code here\n",
    "mytrain_data = np.zeros(shape=(6000,784))\n",
    "eigenvalues = np.array([])\n",
    "xcoord = np.zeros(shape=(6000,784))\n",
    "ycoord = np.zeros(shape=(6000,784))\n",
    "eigenvalues, eigenvectors = np.linalg.eig(np.cov(train_data.T))\n",
    "eigenvec1 = eigenvectors[:,0]\n",
    "eigenvec2 = eigenvectors[:,1]\n",
    "for i in range(6000):\n",
    "    \n",
    "        xcoord[i:,] = np.real(np.dot(train_data[i,:], eigenvec1))\n",
    "        ycoord[i:,] = np.real(np.dot(train_data[i,:], eigenvec2))\n",
    "# print(xcoord)\n",
    "plt.scatter(xcoord, ycoord)\n",
    "plt.show()"
   ]
  },
  {
   "cell_type": "markdown",
   "metadata": {
    "editable": false
   },
   "source": [
    "## 1.3.3 Probabilistic View\n",
    "---\n",
    "In this section you will classify the test set by fitting multivariate gaussians on the train set, with different choices for decision boundaries. On running, your code should print the accuracy on your test set."
   ]
  },
  {
   "cell_type": "code",
   "execution_count": 133,
   "metadata": {},
   "outputs": [
    {
     "name": "stdout",
     "output_type": "stream",
     "text": [
      "0.72\n"
     ]
    }
   ],
   "source": [
    "# Print accuracy on the test set using MLE\n",
    "mytrain_data0 = np.zeros(shape=(600,784))\n",
    "mytrain_data1 = np.zeros(shape=(600,784))\n",
    "mytrain_data2 = np.zeros(shape=(600,784))\n",
    "mytrain_data3 = np.zeros(shape=(600,784))\n",
    "mytrain_data4 = np.zeros(shape=(600,784))\n",
    "mytrain_data5 = np.zeros(shape=(600,784))\n",
    "mytrain_data6 = np.zeros(shape=(600,784))\n",
    "mytrain_data7 = np.zeros(shape=(600,784))\n",
    "mytrain_data8 = np.zeros(shape=(600,784))\n",
    "mytrain_data9 = np.zeros(shape=(600,784))\n",
    "p = np.zeros(shape=(10,))\n",
    "eigenvalues = np.array([])\n",
    "j=0\n",
    "for i in range(6000):\n",
    "    if int(train_labels[i]) == 0:\n",
    "        mytrain_data0[j,:]=train_data[i,:]      \n",
    "        j=j+1\n",
    "j=0\n",
    "for i in range(6000):\n",
    "    if int(train_labels[i]) == 1:\n",
    "        mytrain_data1[j,:]=train_data[i,:]      \n",
    "        j=j+1\n",
    "\n",
    "j=0\n",
    "for i in range(6000):\n",
    "    if int(train_labels[i]) == 2:\n",
    "        mytrain_data2[j,:]=train_data[i,:]      \n",
    "        j=j+1\n",
    "\n",
    "j=0\n",
    "for i in range(6000):\n",
    "    if int(train_labels[i]) == 3:\n",
    "        mytrain_data3[j,:]=train_data[i,:]      \n",
    "        j=j+1\n",
    "        \n",
    "j=0\n",
    "for i in range(6000):\n",
    "    if int(train_labels[i]) == 4:\n",
    "        mytrain_data4[j,:]=train_data[i,:]      \n",
    "        j=j+1\n",
    "\n",
    "j=0\n",
    "for i in range(6000):\n",
    "    if int(train_labels[i]) == 5:\n",
    "        mytrain_data5[j,:]=train_data[i,:]      \n",
    "        j=j+1\n",
    "\n",
    "j=0\n",
    "for i in range(6000):\n",
    "    if int(train_labels[i]) == 6:\n",
    "        mytrain_data6[j,:]=train_data[i,:]      \n",
    "        j=j+1\n",
    "\n",
    "j=0\n",
    "for i in range(6000):\n",
    "    if int(train_labels[i]) == 7:\n",
    "        mytrain_data7[j,:]=train_data[i,:]      \n",
    "        j=j+1\n",
    "\n",
    "j=0       \n",
    "for i in range(6000):\n",
    "    if int(train_labels[i]) == 8:\n",
    "        mytrain_data8[j,:]=train_data[i,:]      \n",
    "        j=j+1\n",
    "        \n",
    "j=0    \n",
    "for i in range(6000):\n",
    "    if int(train_labels[i]) == 9:\n",
    "        mytrain_data9[j,:]=train_data[i,:]      \n",
    "        j=j+1\n",
    "        \n",
    "cov0 = np.cov(mytrain_data0.T)\n",
    "gram0 = np.cov(mytrain_data0)\n",
    "mean0 = np.mean(mytrain_data0, axis = 0)\n",
    "(sign, logdet) = np.linalg.slogdet(gram0)\n",
    "logdet0 = logdet\n",
    "psedoinversecov0 = np.linalg.pinv(cov0)\n",
    "\n",
    "cov1 = np.cov(mytrain_data1.T)\n",
    "gram1 = np.cov(mytrain_data1)\n",
    "mean1 = np.mean(mytrain_data1, axis = 0)\n",
    "(sign, logdet) = np.linalg.slogdet(gram1)\n",
    "logdet1 = logdet\n",
    "psedoinversecov1 = np.linalg.pinv(cov1)\n",
    "\n",
    "cov2 = np.cov(mytrain_data2.T)\n",
    "gram2 = np.cov(mytrain_data2)\n",
    "mean2 = np.mean(mytrain_data2, axis = 0)\n",
    "(sign, logdet) = np.linalg.slogdet(gram2)\n",
    "logdet2 = logdet\n",
    "psedoinversecov2 = np.linalg.pinv(cov2)\n",
    "\n",
    "cov3 = np.cov(mytrain_data3.T)\n",
    "gram3 = np.cov(mytrain_data3)\n",
    "mean3 = np.mean(mytrain_data3, axis = 0)\n",
    "(sign, logdet) = np.linalg.slogdet(gram3)\n",
    "logdet3 = logdet\n",
    "psedoinversecov3 = np.linalg.pinv(cov3)\n",
    "\n",
    "cov4 = np.cov(mytrain_data4.T)\n",
    "gram4 = np.cov(mytrain_data4)\n",
    "mean4 = np.mean(mytrain_data4, axis = 0)\n",
    "(sign, logdet) = np.linalg.slogdet(gram4)\n",
    "logdet4 = logdet\n",
    "psedoinversecov4 = np.linalg.pinv(cov4)\n",
    "\n",
    "cov5 = np.cov(mytrain_data5.T)\n",
    "gram5 = np.cov(mytrain_data5)\n",
    "mean5 = np.mean(mytrain_data5, axis = 0)\n",
    "(sign, logdet) = np.linalg.slogdet(gram5)\n",
    "logdet5 = logdet\n",
    "psedoinversecov5 = np.linalg.pinv(cov5)\n",
    "\n",
    "cov6 = np.cov(mytrain_data6.T)\n",
    "gram6 = np.cov(mytrain_data6)\n",
    "mean6 = np.mean(mytrain_data6, axis = 0)\n",
    "(sign, logdet) = np.linalg.slogdet(gram6)\n",
    "logdet6 = logdet\n",
    "psedoinversecov6 = np.linalg.pinv(cov6)\n",
    "\n",
    "cov7 = np.cov(mytrain_data7.T)\n",
    "gram7 = np.cov(mytrain_data7)\n",
    "mean7 = np.mean(mytrain_data7, axis = 0)\n",
    "(sign, logdet) = np.linalg.slogdet(gram7)\n",
    "logdet7 = logdet\n",
    "psedoinversecov7 = np.linalg.pinv(cov7)\n",
    "\n",
    "cov8 = np.cov(mytrain_data8.T)\n",
    "gram8 = np.cov(mytrain_data8)\n",
    "mean8 = np.mean(mytrain_data8, axis = 0)\n",
    "(sign, logdet) = np.linalg.slogdet(gram8)\n",
    "logdet8 = logdet\n",
    "psedoinversecov8 = np.linalg.pinv(cov8)\n",
    "\n",
    "cov9 = np.cov(mytrain_data9.T)\n",
    "gram9 = np.cov(mytrain_data9)\n",
    "mean9 = np.mean(mytrain_data9, axis = 0)\n",
    "(sign, logdet) = np.linalg.slogdet(gram9)\n",
    "logdet9 = logdet\n",
    "psedoinversecov9 = np.linalg.pinv(cov9)\n",
    "\n",
    "cnt=0\n",
    "for i in range(1000): #every test data \n",
    "    p[0] = (logdet0 + np.dot(((test_data[i,:] - mean0).T), np.dot(psedoinversecov0,(test_data[i,:] - mean0))))\n",
    "    p[1] = (logdet1 + np.dot(((test_data[i,:] - mean1).T), np.dot(psedoinversecov1,(test_data[i,:] - mean1))))\n",
    "    p[2] = (logdet2 + np.dot(((test_data[i,:] - mean2).T), np.dot(psedoinversecov2,(test_data[i,:] - mean2))))\n",
    "    p[3] = (logdet3 + np.dot(((test_data[i,:] - mean3).T), np.dot(psedoinversecov3,(test_data[i,:] - mean3))))\n",
    "    p[4] = (logdet4 + np.dot(((test_data[i,:] - mean4).T), np.dot(psedoinversecov4,(test_data[i,:] - mean4))))\n",
    "    p[5] = (logdet5 + np.dot(((test_data[i,:] - mean5).T), np.dot(psedoinversecov5,(test_data[i,:] - mean5))))\n",
    "    p[6] = (logdet6 + np.dot(((test_data[i,:] - mean6).T), np.dot(psedoinversecov6,(test_data[i,:] - mean6))))\n",
    "    p[7] = (logdet7 + np.dot(((test_data[i,:] - mean7).T), np.dot(psedoinversecov7,(test_data[i,:] - mean7))))\n",
    "    p[8] = (logdet8 + np.dot(((test_data[i,:] - mean8).T), np.dot(psedoinversecov8,(test_data[i,:] - mean8))))\n",
    "    p[9] = (logdet9 + np.dot(((test_data[i,:] - mean9).T), np.dot(psedoinversecov9,(test_data[i,:] - mean9))))\n",
    "    finans=np.argmin(p)\n",
    "    if int(test_labels[i]) == finans:\n",
    "        cnt+=1\n",
    "print(cnt/1000)"
   ]
  },
  {
   "cell_type": "code",
   "execution_count": 175,
   "metadata": {},
   "outputs": [
    {
     "name": "stdout",
     "output_type": "stream",
     "text": [
      "0.72\n"
     ]
    }
   ],
   "source": [
    "# Print accuracy on the test set using MAP\n",
    "# (assume a reasonable prior and mention it in the comments)\n",
    "# In this case MLE = MAP since the other probabilities are just constants and they wont affect since we take max of the probabilities \n",
    "mytrain_data0 = np.zeros(shape=(600,784))\n",
    "mytrain_data1 = np.zeros(shape=(600,784))\n",
    "mytrain_data2 = np.zeros(shape=(600,784))\n",
    "mytrain_data3 = np.zeros(shape=(600,784))\n",
    "mytrain_data4 = np.zeros(shape=(600,784))\n",
    "mytrain_data5 = np.zeros(shape=(600,784))\n",
    "mytrain_data6 = np.zeros(shape=(600,784))\n",
    "mytrain_data7 = np.zeros(shape=(600,784))\n",
    "mytrain_data8 = np.zeros(shape=(600,784))\n",
    "mytrain_data9 = np.zeros(shape=(600,784))\n",
    "p = np.zeros(shape=(10,))\n",
    "eigenvalues = np.array([])\n",
    "j=0\n",
    "for i in range(6000):\n",
    "    if int(train_labels[i]) == 0:\n",
    "        mytrain_data0[j,:]=train_data[i,:]      \n",
    "        j=j+1\n",
    "j=0\n",
    "for i in range(6000):\n",
    "    if int(train_labels[i]) == 1:\n",
    "        mytrain_data1[j,:]=train_data[i,:]      \n",
    "        j=j+1\n",
    "\n",
    "j=0\n",
    "for i in range(6000):\n",
    "    if int(train_labels[i]) == 2:\n",
    "        mytrain_data2[j,:]=train_data[i,:]      \n",
    "        j=j+1\n",
    "\n",
    "j=0\n",
    "for i in range(6000):\n",
    "    if int(train_labels[i]) == 3:\n",
    "        mytrain_data3[j,:]=train_data[i,:]      \n",
    "        j=j+1\n",
    "        \n",
    "j=0\n",
    "for i in range(6000):\n",
    "    if int(train_labels[i]) == 4:\n",
    "        mytrain_data4[j,:]=train_data[i,:]      \n",
    "        j=j+1\n",
    "\n",
    "j=0\n",
    "for i in range(6000):\n",
    "    if int(train_labels[i]) == 5:\n",
    "        mytrain_data5[j,:]=train_data[i,:]      \n",
    "        j=j+1\n",
    "\n",
    "j=0\n",
    "for i in range(6000):\n",
    "    if int(train_labels[i]) == 6:\n",
    "        mytrain_data6[j,:]=train_data[i,:]      \n",
    "        j=j+1\n",
    "\n",
    "j=0\n",
    "for i in range(6000):\n",
    "    if int(train_labels[i]) == 7:\n",
    "        mytrain_data7[j,:]=train_data[i,:]      \n",
    "        j=j+1\n",
    "\n",
    "j=0       \n",
    "for i in range(6000):\n",
    "    if int(train_labels[i]) == 8:\n",
    "        mytrain_data8[j,:]=train_data[i,:]      \n",
    "        j=j+1\n",
    "        \n",
    "j=0    \n",
    "for i in range(6000):\n",
    "    if int(train_labels[i]) == 9:\n",
    "        mytrain_data9[j,:]=train_data[i,:]      \n",
    "        j=j+1\n",
    "        \n",
    "cov0 = np.cov(mytrain_data0.T)\n",
    "gram0 = np.cov(mytrain_data0)\n",
    "mean0 = np.mean(mytrain_data0, axis = 0)\n",
    "(sign, logdet) = np.linalg.slogdet(gram0)\n",
    "logdet0 = logdet\n",
    "psedoinversecov0 = np.linalg.pinv(cov0)\n",
    "\n",
    "cov1 = np.cov(mytrain_data1.T)\n",
    "gram1 = np.cov(mytrain_data1)\n",
    "mean1 = np.mean(mytrain_data1, axis = 0)\n",
    "(sign, logdet) = np.linalg.slogdet(gram1)\n",
    "logdet1 = logdet\n",
    "psedoinversecov1 = np.linalg.pinv(cov1)\n",
    "\n",
    "cov2 = np.cov(mytrain_data2.T)\n",
    "gram2 = np.cov(mytrain_data2)\n",
    "mean2 = np.mean(mytrain_data2, axis = 0)\n",
    "(sign, logdet) = np.linalg.slogdet(gram2)\n",
    "logdet2 = logdet\n",
    "psedoinversecov2 = np.linalg.pinv(cov2)\n",
    "\n",
    "cov3 = np.cov(mytrain_data3.T)\n",
    "gram3 = np.cov(mytrain_data3)\n",
    "mean3 = np.mean(mytrain_data3, axis = 0)\n",
    "(sign, logdet) = np.linalg.slogdet(gram3)\n",
    "logdet3 = logdet\n",
    "psedoinversecov3 = np.linalg.pinv(cov3)\n",
    "\n",
    "cov4 = np.cov(mytrain_data4.T)\n",
    "gram4 = np.cov(mytrain_data4)\n",
    "mean4 = np.mean(mytrain_data4, axis = 0)\n",
    "(sign, logdet) = np.linalg.slogdet(gram4)\n",
    "logdet4 = logdet\n",
    "psedoinversecov4 = np.linalg.pinv(cov4)\n",
    "\n",
    "cov5 = np.cov(mytrain_data5.T)\n",
    "gram5 = np.cov(mytrain_data5)\n",
    "mean5 = np.mean(mytrain_data5, axis = 0)\n",
    "(sign, logdet) = np.linalg.slogdet(gram5)\n",
    "logdet5 = logdet\n",
    "psedoinversecov5 = np.linalg.pinv(cov5)\n",
    "\n",
    "cov6 = np.cov(mytrain_data6.T)\n",
    "gram6 = np.cov(mytrain_data6)\n",
    "mean6 = np.mean(mytrain_data6, axis = 0)\n",
    "(sign, logdet) = np.linalg.slogdet(gram6)\n",
    "logdet6 = logdet\n",
    "psedoinversecov6 = np.linalg.pinv(cov6)\n",
    "\n",
    "cov7 = np.cov(mytrain_data7.T)\n",
    "gram7 = np.cov(mytrain_data7)\n",
    "mean7 = np.mean(mytrain_data7, axis = 0)\n",
    "(sign, logdet) = np.linalg.slogdet(gram7)\n",
    "logdet7 = logdet\n",
    "psedoinversecov7 = np.linalg.pinv(cov7)\n",
    "\n",
    "cov8 = np.cov(mytrain_data8.T)\n",
    "gram8 = np.cov(mytrain_data8)\n",
    "mean8 = np.mean(mytrain_data8, axis = 0)\n",
    "(sign, logdet) = np.linalg.slogdet(gram8)\n",
    "logdet8 = logdet\n",
    "psedoinversecov8 = np.linalg.pinv(cov8)\n",
    "\n",
    "cov9 = np.cov(mytrain_data9.T)\n",
    "gram9 = np.cov(mytrain_data9)\n",
    "mean9 = np.mean(mytrain_data9, axis = 0)\n",
    "(sign, logdet) = np.linalg.slogdet(gram9)\n",
    "logdet9 = logdet\n",
    "psedoinversecov9 = np.linalg.pinv(cov9)\n",
    "\n",
    "cnt=0\n",
    "for i in range(1000): #every test data \n",
    "    p[0] = (logdet0 + np.dot(((test_data[i,:] - mean0).T), np.dot(psedoinversecov0,(test_data[i,:] - mean0))))\n",
    "    p[1] = (logdet1 + np.dot(((test_data[i,:] - mean1).T), np.dot(psedoinversecov1,(test_data[i,:] - mean1))))\n",
    "    p[2] = (logdet2 + np.dot(((test_data[i,:] - mean2).T), np.dot(psedoinversecov2,(test_data[i,:] - mean2))))\n",
    "    p[3] = (logdet3 + np.dot(((test_data[i,:] - mean3).T), np.dot(psedoinversecov3,(test_data[i,:] - mean3))))\n",
    "    p[4] = (logdet4 + np.dot(((test_data[i,:] - mean4).T), np.dot(psedoinversecov4,(test_data[i,:] - mean4))))\n",
    "    p[5] = (logdet5 + np.dot(((test_data[i,:] - mean5).T), np.dot(psedoinversecov5,(test_data[i,:] - mean5))))\n",
    "    p[6] = (logdet6 + np.dot(((test_data[i,:] - mean6).T), np.dot(psedoinversecov6,(test_data[i,:] - mean6))))\n",
    "    p[7] = (logdet7 + np.dot(((test_data[i,:] - mean7).T), np.dot(psedoinversecov7,(test_data[i,:] - mean7))))\n",
    "    p[8] = (logdet8 + np.dot(((test_data[i,:] - mean8).T), np.dot(psedoinversecov8,(test_data[i,:] - mean8))))\n",
    "    p[9] = (logdet9 + np.dot(((test_data[i,:] - mean9).T), np.dot(psedoinversecov9,(test_data[i,:] - mean9))))\n",
    "    finans=np.argmin(p)\n",
    "    if int(test_labels[i]) == finans:\n",
    "        cnt+=1\n",
    "print(cnt/1000)"
   ]
  },
  {
   "cell_type": "code",
   "execution_count": 151,
   "metadata": {},
   "outputs": [
    {
     "name": "stdout",
     "output_type": "stream",
     "text": [
      "0.77\n"
     ]
    }
   ],
   "source": [
    "# Print accuracy using Bayesian pairwise majority voting method\n",
    "cnt=0\n",
    "for i in range(1000): #for every training data point \n",
    "    freq = np.zeros(10)\n",
    "    for j in range(10):\n",
    "        for z in range(j+1, 10):\n",
    "            diff1 = test_data[i,:] - np.mean(train_data[np.where(train_labels == j)], axis=0)\n",
    "            diff2 = test_data[i,:] - np.mean(train_data[np.where(train_labels == z)], axis=0)\n",
    "            \n",
    "            diff1 = np.linalg.norm(diff1)\n",
    "            diff2 = np.linalg.norm(diff2)\n",
    "\n",
    "            if diff1 > diff2:\n",
    "                   freq[z] += 1\n",
    "            else:\n",
    "                freq[j] += 1\n",
    "    if test_labels[i] == np.argmax(freq):\n",
    "        cnt+= 1\n",
    "        \n",
    "print(cnt/1000)\n"
   ]
  },
  {
   "cell_type": "code",
   "execution_count": 5,
   "metadata": {},
   "outputs": [
    {
     "name": "stdout",
     "output_type": "stream",
     "text": [
      "0.77\n"
     ]
    }
   ],
   "source": [
    "# Print accuracy using Simple Perpendicular Bisector majority voting method\n",
    "cnt = 0\n",
    "highind = 0\n",
    "lowind = 0\n",
    "for i in range(1000):\n",
    "    freq = np.zeros(10)\n",
    "    meanline = np.zeros(shape=(784))\n",
    "    for j in range(10):\n",
    "        for z in range(j+1,10):\n",
    "            meanline = np.mean(train_data[np.where(train_labels == j)], axis=0) - np.mean(train_data[np.where(train_labels == z)], axis=0) #line connecting the means of two classes \n",
    "            midmean = (np.mean(train_data[np.where(train_labels == j)], axis=0) + np.mean(train_data[np.where(train_labels == z)], axis=0))/2 #midpoint of the mean \n",
    "            if np.dot((np.mean(train_data[np.where(train_labels == j)], axis=0) - midmean), meanline) > np.dot((np.mean(train_data[np.where(train_labels == z)], axis=0) - midmean), meanline): #get the dot product of the line joining the mean of each class to the line joining  \n",
    "                if np.dot((test_data[i,:] - midmean), meanline) > 0:\n",
    "                              freq[j] += 1\n",
    "                else:\n",
    "                              freq[z] += 1\n",
    "            else: \n",
    "                if np.dot((test_data[i,:] - midmean), meanline) > 0:\n",
    "                              freq[z] += 1\n",
    "                else:\n",
    "                              freq[j] += 1\n",
    "            \n",
    "    if test_labels[i] == np.argmax(freq):\n",
    "        cnt+= 1\n",
    "                              \n",
    "print(cnt/1000)\n",
    "        \n",
    "        "
   ]
  },
  {
   "cell_type": "markdown",
   "metadata": {
    "editable": false
   },
   "source": [
    "### 1.3.3 Question 4\n",
    "Compare performances and salient observations"
   ]
  },
  {
   "cell_type": "markdown",
   "metadata": {},
   "source": [
    "---\n",
    "Your analysis here (double click to edit)\n",
    "MAP and MLE give approximately the same accuracy. This is because all digits occur with equal probability in the given the data set.\n",
    "<br>\n",
    "Bayesian pairwaise voting and perpendicular bisector method both give the same accuracy. These are two different ways to calculate the same things because it is given that covariance matrix of all classIDs is same.\n",
    "<br>\n",
    "With the observation, the performace of Bayesian pairwaise voting and perpendicular bisector method is better than MAP and MLE methods. But there are several ways with which MAP and MLE performances improve significantly. \n",
    "\n",
    "---"
   ]
  },
  {
   "cell_type": "markdown",
   "metadata": {
    "editable": false
   },
   "source": [
    "## 1.3.4 Nearest Neighbour based Tasks and Design\n",
    "---\n",
    "### 1.3.4 Question 1 : NN Classification with various K\n",
    "Implement a KNN classifier and print accuracies on the test set with K=1,3,7"
   ]
  },
  {
   "cell_type": "code",
   "execution_count": 177,
   "metadata": {},
   "outputs": [
    {
     "name": "stdout",
     "output_type": "stream",
     "text": [
      "0.907\n",
      "0.916\n",
      "0.916\n"
     ]
    }
   ],
   "source": [
    "# Your code here\n",
    "dist = np.zeros(6000,) \n",
    "cnt = 0\n",
    "for i in range(1000): # for every test data \n",
    "    z=0\n",
    "    sort = np.zeros(6000,)\n",
    "    for j in range(6000): #for every training data \n",
    "        dist[z] = np.linalg.norm(train_data[j,:]-test_data[i,:]) # euclidean distance \n",
    "        z = z+1\n",
    "    sort = np.argsort(dist)\n",
    "#     test_label[i] # ground truth \n",
    "#     train_label[sort[0]] #check for k = 1\n",
    "    if test_labels[i] == train_labels[sort[0]]:\n",
    "        cnt += 1 # k = 1\n",
    "print(cnt/1000)\n",
    "\n",
    "dist = np.zeros(6000,) \n",
    "cnt = 0\n",
    "for i in range(1000): # for every test data \n",
    "    z=0\n",
    "    freq = np.zeros(10,)\n",
    "    sort = np.zeros(6000,)\n",
    "    for j in range(6000): #for every training data \n",
    "        dist[z] = np.linalg.norm(train_data[j,:]-test_data[i,:]) # euclidean distance \n",
    "        z = z+1\n",
    "    sort = np.argsort(dist)\n",
    "    maxi = 0\n",
    "    for k in range(3):# k = 3\n",
    "        freq[int(train_labels[sort[k]])] += 1\n",
    "    for k in range(10):\n",
    "        if maxi < freq[k]:\n",
    "            maxi = k\n",
    "    pred = np.argmax(freq)\n",
    "    if test_labels[i] == pred:\n",
    "        cnt += 1 \n",
    "print(cnt/1000)\n",
    "\n",
    "dist = np.zeros(6000,) \n",
    "cnt = 0\n",
    "for i in range(1000): # for every test data \n",
    "    z=0\n",
    "    freq = np.zeros(10,)\n",
    "    sort = np.zeros(6000,)\n",
    "    for j in range(6000): #for every training data \n",
    "        dist[z] = np.linalg.norm(train_data[j,:]-test_data[i,:]) # euclidean distance \n",
    "        z = z+1\n",
    "    sort = np.argsort(dist)\n",
    "    maxi = 0\n",
    "    for k in range(7):# k = 7\n",
    "        freq[int(train_labels[sort[k]])] += 1\n",
    "    pred = np.argmax(freq)\n",
    "    if test_labels[i] == pred:\n",
    "        cnt += 1 \n",
    "print(cnt/1000)\n",
    "# Print accuracies with K = 1, 3, 7\n"
   ]
  },
  {
   "cell_type": "markdown",
   "metadata": {
    "editable": false
   },
   "source": [
    "### 1.3.4 Question 1 continued\n",
    "- Why / why not are the accuracies the same?\n",
    "- How do we identify the best K? Suggest a computational procedure with a logical explanation."
   ]
  },
  {
   "cell_type": "markdown",
   "metadata": {},
   "source": [
    "---\n",
    "The accuracies for k=1, 3, 7 are roughly the same. Suppose two classes have a tie, then the algorithm doesn't have any confidence regarding which class to decide. Hence a different K would help us predict with more confidence. So choose a K that has less ties to break.  \n",
    "\n",
    "To identify the best k, iterate through all possible values of k and find the best k out of that i.e a linear search would work best for this problem. \n",
    "\n",
    "---"
   ]
  },
  {
   "cell_type": "markdown",
   "metadata": {
    "editable": false
   },
   "source": [
    "### 1.3.4 Question 2 :  Reverse NN based outlier detection\n",
    "A sample can be thought of as an outlier is it is NOT in the nearest neighbour set of anybody else. Expand this idea into an algorithm."
   ]
  },
  {
   "cell_type": "code",
   "execution_count": 4,
   "metadata": {
    "editable": false
   },
   "outputs": [
    {
     "name": "stdout",
     "output_type": "stream",
     "text": [
      "(20, 784)\n"
     ]
    }
   ],
   "source": [
    "# This cell reads mixed data containing both MNIST digits and English characters.\n",
    "# The labels for this mixed data are random and are hence ignored.\n",
    "mixed_data, _ = read_data(\"outliers.csv\")\n",
    "print(mixed_data.shape)"
   ]
  },
  {
   "cell_type": "code",
   "execution_count": 6,
   "metadata": {},
   "outputs": [
    {
     "name": "stdout",
     "output_type": "stream",
     "text": [
      "0\n",
      "4\n",
      "6\n",
      "7\n",
      "9\n",
      "18\n"
     ]
    }
   ],
   "source": [
    "dist = np.zeros(6020,) \n",
    "cnt = 0\n",
    "remove = []\n",
    "for i in range(6000): # for every train data point \n",
    "    z=0\n",
    "    freq = np.zeros(10,)\n",
    "    sort = np.zeros(6000,)\n",
    "    for j in range(6000): #for every other training data point \n",
    "        if i != j:\n",
    "            dist[z] = np.linalg.norm(train_data[j,:]-train_data[i,:]) # euclidean distance \n",
    "            z = z+1\n",
    "    for j in range(20): #and every mixed data point \n",
    "        z = z+1\n",
    "        dist[z] = np.linalg.norm(mixed_data[j,:]-train_data[i,:])# euclidean distance \n",
    "    sort = np.argsort(dist)\n",
    "    for k in range(7): \n",
    "        if sort[k] > 5999: #that means there is a mixed data point \n",
    "            remove.append(sort[k] - 6000)\n",
    "for i in range(20):\n",
    "    if i not in remove:\n",
    "        print (i) #like asked I am printing the indices of outliers \n",
    "        #print (mixed_data[i,:])\n",
    "    # we know the indices which are not outliers \n",
    "    "
   ]
  },
  {
   "cell_type": "markdown",
   "metadata": {
    "editable": false
   },
   "source": [
    "### 1.3.4 Question 3 : NN for regression\n",
    "Assume that each classID in the train set corresponds to a neatness score as:\n",
    "$$ neatness = \\frac{classID}{10} $$\n",
    "\n",
    "---\n",
    "Assume we had to predict the neatness score for each test sample using NN based techiniques on the train set. Describe the algorithm."
   ]
  },
  {
   "cell_type": "markdown",
   "metadata": {},
   "source": [
    "---\n",
    "Algorithm: \n",
    "1. Choose a K to run KNN over the data (I chose k =7)\n",
    "<br>\n",
    "2. Then take the mean of the neatness scores of the K nearest neighbors (7 in this case)\n",
    "<br>\n",
    "---"
   ]
  },
  {
   "cell_type": "markdown",
   "metadata": {
    "editable": false
   },
   "source": [
    "### 1.3.4 Question 3 continued\n",
    "Validate your algorithm on the test set. This code should print mean absolute error on the test set, using the train set for NN based regression."
   ]
  },
  {
   "cell_type": "code",
   "execution_count": 82,
   "metadata": {},
   "outputs": [
    {
     "name": "stdout",
     "output_type": "stream",
     "text": [
      "0.043771428571428676\n"
     ]
    }
   ],
   "source": [
    "# Your code here\n",
    "# knn for k = 7\n",
    "dist = np.zeros(6000,) \n",
    "cnt = 0\n",
    "finsum=0\n",
    "for i in range(1000): # for every test data \n",
    "    z=0\n",
    "    freq = np.zeros(10,)\n",
    "    sort = np.zeros(6000,)\n",
    "    for j in range(6000): #for every training data \n",
    "        dist[z] = np.linalg.norm(train_data[j,:]-test_data[i,:]) # euclidean distance \n",
    "        z = z+1\n",
    "    sort = np.argsort(dist)\n",
    "    maxi = 0\n",
    "    sumof = 0\n",
    "    for k in range(7):\n",
    "        sumof += train_labels[sort[k]]\n",
    "    sumof = sumof/10 # to make 0-10 to 0-1\n",
    "    mean = sumof/7\n",
    "    finsum = finsum + abs(test_labels[i]/10 - mean)\n",
    "    \n",
    "print(finsum/1000)\n",
    "        \n"
   ]
  },
  {
   "cell_type": "markdown",
   "metadata": {
    "editable": false
   },
   "source": [
    "---\n",
    "# FOLLOW THE SUBMISSION INSTRUCTIONS\n",
    "---"
   ]
  }
 ],
 "metadata": {
  "kernelspec": {
   "display_name": "Python 3",
   "language": "python",
   "name": "python3"
  },
  "language_info": {
   "codemirror_mode": {
    "name": "ipython",
    "version": 3
   },
   "file_extension": ".py",
   "mimetype": "text/x-python",
   "name": "python",
   "nbconvert_exporter": "python",
   "pygments_lexer": "ipython3",
   "version": "3.7.1"
  }
 },
 "nbformat": 4,
 "nbformat_minor": 2
}
